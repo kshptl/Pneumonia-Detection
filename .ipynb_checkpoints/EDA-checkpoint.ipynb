{
 "cells": [
  {
   "cell_type": "code",
   "execution_count": null,
   "metadata": {
    "tags": []
   },
   "outputs": [],
   "source": [
    "import numpy as np # linear algebra\n",
    "import pandas as pd # data processing, CSV file I/O (e.g. pd.read_csv)\n",
    "import os\n",
    "from glob import glob\n",
    "%matplotlib inline\n",
    "import matplotlib.pyplot as plt\n",
    "import seaborn as sns\n",
    "\n",
    "##Import any other packages you may need here\n",
    "import imageio"
   ]
  },
  {
   "cell_type": "markdown",
   "metadata": {},
   "source": [
    "EDA is open-ended, and it is up to you to decide how to look at different ways to slice and dice your data. A good starting point is to look at the requirements for the FDA documentation in the final part of this project to guide (some) of the analyses you do. \n",
    "\n",
    "This EDA should also help to inform you of how pneumonia looks in the wild. E.g. what other types of diseases it's commonly found with, how often it is found, what ages it affects, etc. \n",
    "\n",
    "Note that this NIH dataset was not specifically acquired for pneumonia. So, while this is a representation of 'pneumonia in the wild,' the prevalence of pneumonia may be different if you were to take only chest x-rays that were acquired in an ER setting with suspicion of pneumonia. "
   ]
  },
  {
   "cell_type": "markdown",
   "metadata": {},
   "source": [
    "Perform the following EDA:\n",
    "* The patient demographic data such as gender, age, patient position,etc. (as it is available)\n",
    "* The x-ray views taken (i.e. view position)\n",
    "* The number of cases including: \n",
    "    * number of pneumonia cases,\n",
    "    * number of non-pneumonia cases\n",
    "* The distribution of other diseases that are comorbid with pneumonia\n",
    "* Number of disease per patient \n",
    "* Pixel-level assessments of the imaging data for healthy & disease states of interest (e.g. histograms of intensity values) and compare distributions across diseases.\n",
    "\n",
    "Note: use full NIH data to perform the first a few EDA items and use `sample_labels.csv` for the pixel-level assassements. "
   ]
  },
  {
   "cell_type": "code",
   "execution_count": null,
   "metadata": {},
   "outputs": [],
   "source": [
    "## Below is some helper code to read all of your full image filepaths into a dataframe for easier manipulation\n",
    "\n",
    "all_xray_df = pd.read_csv('data/Data_Entry_2017.csv')\n",
    "all_xray_df.sample(3)\n",
    "\n",
    "data_sample = pd.read_csv('sample_labels.csv')\n",
    "data_sample.sample(3)"
   ]
  },
  {
   "cell_type": "markdown",
   "metadata": {},
   "source": [
    "Also, **describe your findings and how will you set up the model training based on the findings.**"
   ]
  },
  {
   "cell_type": "code",
   "execution_count": null,
   "metadata": {},
   "outputs": [],
   "source": [
    "## EDA\n",
    "xray = all_xray_df\n",
    "xray[\"Patient Gender\"] = np.where(xray[\"Patient Gender\"] == \"M\",1,0)\n",
    "plt.hist(xray[\"Patient Gender\"],bins = 100);"
   ]
  },
  {
   "cell_type": "code",
   "execution_count": null,
   "metadata": {},
   "outputs": [],
   "source": [
    "def distributions():\n",
    "    col = [\"Follow-up #\", \"Patient Age\", \"Patient Gender\", \"View Position\"]\n",
    "    plt.subplot(2,2,1)\n",
    "    sns.distplot(xray[col[0]], hist=True, kde=False, bins=50, color = 'blue', hist_kws = {'edgecolor':'black'});\n",
    "    plt.subplot(2,2,2)\n",
    "    sns.distplot(xray[col[1]], hist=True, kde=False, bins=20, color = 'blue', hist_kws = {'edgecolor':'black'});\n",
    "    plt.subplot(2,2,3)\n",
    "    sns.countplot(xray[col[2]], color = 'blue');\n",
    "    plt.subplot(2,2,4)\n",
    "    sns.countplot(xray[col[3]], color = 'blue');\n",
    "distributions()"
   ]
  },
  {
   "cell_type": "code",
   "execution_count": null,
   "metadata": {},
   "outputs": [],
   "source": [
    "#Looks like we have data that doesn't make sense. Follow-up # and Patient Age are two culprits. Let's take a look\n",
    "xray[xray[\"Follow-up #\"] == xray[\"Follow-up #\"].max()]"
   ]
  },
  {
   "cell_type": "code",
   "execution_count": null,
   "metadata": {},
   "outputs": [],
   "source": [
    "pd.set_option('display.max_rows', 10)\n",
    "xray[xray[\"Patient ID\"] == 10007]\n",
    "\n",
    "# This patient seems to have shown every single disease in their 183 follow-ups! Let's assume this data is accurate."
   ]
  },
  {
   "cell_type": "code",
   "execution_count": null,
   "metadata": {},
   "outputs": [],
   "source": [
    "# Now let's look at Patient Age\n",
    "xray[\"Patient Age\"].max()"
   ]
  },
  {
   "cell_type": "code",
   "execution_count": null,
   "metadata": {},
   "outputs": [],
   "source": [
    "# Maximum age is 414? That does not make sense!\n",
    "np.transpose(set(xray[\"Patient Age\"].values))"
   ]
  },
  {
   "cell_type": "code",
   "execution_count": null,
   "metadata": {},
   "outputs": [],
   "source": [
    "# Looks like every age after 95 is incorrect. We should drop this data.\n",
    "xray = xray[xray[\"Patient Age\"] <= 95]"
   ]
  },
  {
   "cell_type": "code",
   "execution_count": null,
   "metadata": {},
   "outputs": [],
   "source": [
    "#Let's check the distributions again\n",
    "distributions()"
   ]
  },
  {
   "cell_type": "markdown",
   "metadata": {},
   "source": [
    "Looks like our patients are 50-60 years old.\n",
    "There's slightly more men than women.\n",
    "There are more PA views than AP\n",
    "Most of the images are from their first visit."
   ]
  },
  {
   "cell_type": "code",
   "execution_count": null,
   "metadata": {
    "tags": []
   },
   "outputs": [],
   "source": [
    "# Now let's take a look at the findings.\n",
    "# First to extract the data in the  \"Finding Labels\" column and one-hot-ecode.\n",
    "\n",
    "diseases = [\"Atelectasis\", \"Consolidation\", \"Infiltration\", \"Pneumothorax\", \"Edema\", \"Emphysema\", \"Fibrosis\", \"Effusion\", \"Pneumonia\", \"Pleural_Thickening\", \"Cardiomegaly\", \"Nodule\", \"Mass\", \"Hernia\", \"No Finding\"]\n",
    "\n",
    "for label in diseases:\n",
    "    xray[label] = xray[\"Finding Labels\"].map(lambda finding: 1 if label in finding else 0)"
   ]
  },
  {
   "cell_type": "code",
   "execution_count": null,
   "metadata": {
    "tags": []
   },
   "outputs": [],
   "source": [
    "# Now see how many pneumonia vs non-pneumonia cases we have.\n",
    "print(\"Cases with Pneumonia: \", (xray[\"Finding Labels\"] == \"Pneumonia\").sum())\n",
    "print(\"Cases without Pneumonia: \", xray[\"Pneumonia\"].count()-xray[\"Pneumonia\"].sum())"
   ]
  },
  {
   "cell_type": "code",
   "execution_count": null,
   "metadata": {},
   "outputs": [],
   "source": [
    "# Now lets look at how the diseases are distributed. Since we are focusing on Pneumonia, we'll focus those cases that have Pneumonia and also with cormobidity.\n",
    "pneumonia = xray[xray[\"Finding Labels\"].str.contains(\"Pneumonia\")][\"Finding Labels\"]\n",
    "pneumonia.value_counts()[:20].plot(kind=\"bar\")"
   ]
  },
  {
   "cell_type": "code",
   "execution_count": null,
   "metadata": {},
   "outputs": [],
   "source": [
    "# Pneumonia with no co-morbodity has the highest prevalence compared to those with comorbidities.\n",
    "# Now let's look at the number of diseases each patient has\n",
    "\n",
    "xray[\"# of diseases\"] = 0\n",
    "xray[\"# of diseases\"] = xray[xray.columns[12:]].sum(axis=1)\n",
    "sns.countplot(xray[\"# of diseases\"])"
   ]
  },
  {
   "cell_type": "code",
   "execution_count": null,
   "metadata": {},
   "outputs": [],
   "source": [
    "# Most people have only 1 detected disease.\n",
    "\n",
    "# Now to check distribution of pixel data on a sample of images"
   ]
  },
  {
   "cell_type": "code",
   "execution_count": null,
   "metadata": {},
   "outputs": [],
   "source": [
    "#data_sample[\"Image Index\"]"
   ]
  },
  {
   "cell_type": "code",
   "execution_count": null,
   "metadata": {
    "tags": []
   },
   "outputs": [],
   "source": [
    "# get the aboslute paths for all images\n",
    "paths_list = []\n",
    "d = %pwd\n",
    "d += \"\\data\\\\\"\n",
    "for dirpath,_,filenames in os.walk(d):\n",
    "    for f in filenames:\n",
    "        if \".png\" in f:\n",
    "            paths_list.append(os.path.abspath(os.path.join(dirpath, f)))\n",
    "\n",
    "data_sample[\"File Path\"] = [image for image in paths_list if image[-16:] in data_sample[\"Image Index\"].values]"
   ]
  },
  {
   "cell_type": "code",
   "execution_count": null,
   "metadata": {
    "tags": []
   },
   "outputs": [],
   "source": [
    "# Intensity for lungs with No Finding\n",
    "def label_distribution(label):\n",
    "    no_finding_data = data_sample[data_sample[\"Finding Labels\"].str.match(\"No Finding\")]\n",
    "    img = np.zeros(1024*1024)\n",
    "    for path in no_finding_data[\"File Path\"]:\n",
    "        img += imageio.imread(path, pilmode=\"L\").ravel()\n",
    "    img /= len(no_finding_data)\n",
    "    img = img.reshape((1024,1024))\n",
    "    sns.distplot(img.ravel(), bins=256,kde=False, ax=ax[0])\n",
    "label_distribution(\"No Finding\")"
   ]
  },
  {
   "cell_type": "code",
   "execution_count": null,
   "metadata": {},
   "outputs": [],
   "source": [
    "#Intensities for lungs with Pneumonia\n",
    "label_distribution(\"Pneumonia\")\n"
   ]
  },
  {
   "cell_type": "code",
   "execution_count": null,
   "metadata": {},
   "outputs": [],
   "source": [
    "# Images with Pneumonia have more pixles with medium-lower intensities"
   ]
  },
  {
   "cell_type": "code",
   "execution_count": null,
   "metadata": {},
   "outputs": [],
   "source": []
  }
 ],
 "metadata": {
  "kernelspec": {
   "display_name": "Python 3",
   "language": "python",
   "name": "python3"
  },
  "language_info": {
   "codemirror_mode": {
    "name": "ipython",
    "version": 3
   },
   "file_extension": ".py",
   "mimetype": "text/x-python",
   "name": "python",
   "nbconvert_exporter": "python",
   "pygments_lexer": "ipython3",
   "version": "3.7.4"
  }
 },
 "nbformat": 4,
 "nbformat_minor": 2
}
