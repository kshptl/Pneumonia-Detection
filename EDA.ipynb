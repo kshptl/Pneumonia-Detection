{
 "cells": [
  {
   "cell_type": "code",
   "execution_count": 1,
   "metadata": {
    "tags": []
   },
   "outputs": [],
   "source": [
    "import numpy as np # linear algebra\n",
    "import pandas as pd # data processing, CSV file I/O (e.g. pd.read_csv)\n",
    "import os\n",
    "from glob import glob\n",
    "%matplotlib inline\n",
    "import matplotlib.pyplot as plt\n",
    "import seaborn as sns\n",
    "\n",
    "##Import any other packages you may need here\n",
    "import imageio"
   ]
  },
  {
   "cell_type": "markdown",
   "metadata": {},
   "source": [
    "EDA is open-ended, and it is up to you to decide how to look at different ways to slice and dice your data. A good starting point is to look at the requirements for the FDA documentation in the final part of this project to guide (some) of the analyses you do. \n",
    "\n",
    "This EDA should also help to inform you of how pneumonia looks in the wild. E.g. what other types of diseases it's commonly found with, how often it is found, what ages it affects, etc. \n",
    "\n",
    "Note that this NIH dataset was not specifically acquired for pneumonia. So, while this is a representation of 'pneumonia in the wild,' the prevalence of pneumonia may be different if you were to take only chest x-rays that were acquired in an ER setting with suspicion of pneumonia. "
   ]
  },
  {
   "cell_type": "markdown",
   "metadata": {},
   "source": [
    "Perform the following EDA:\n",
    "* The patient demographic data such as gender, age, patient position,etc. (as it is available)\n",
    "* The x-ray views taken (i.e. view position)\n",
    "* The number of cases including: \n",
    "    * number of pneumonia cases,\n",
    "    * number of non-pneumonia cases\n",
    "* The distribution of other diseases that are comorbid with pneumonia\n",
    "* Number of disease per patient \n",
    "* Pixel-level assessments of the imaging data for healthy & disease states of interest (e.g. histograms of intensity values) and compare distributions across diseases.\n",
    "\n",
    "Note: use full NIH data to perform the first a few EDA items and use `sample_labels.csv` for the pixel-level assassements. "
   ]
  },
  {
   "cell_type": "code",
   "execution_count": 2,
   "metadata": {},
   "outputs": [
    {
     "data": {
      "text/html": [
       "<div>\n",
       "<style scoped>\n",
       "    .dataframe tbody tr th:only-of-type {\n",
       "        vertical-align: middle;\n",
       "    }\n",
       "\n",
       "    .dataframe tbody tr th {\n",
       "        vertical-align: top;\n",
       "    }\n",
       "\n",
       "    .dataframe thead th {\n",
       "        text-align: right;\n",
       "    }\n",
       "</style>\n",
       "<table border=\"1\" class=\"dataframe\">\n",
       "  <thead>\n",
       "    <tr style=\"text-align: right;\">\n",
       "      <th></th>\n",
       "      <th>Image Index</th>\n",
       "      <th>Finding Labels</th>\n",
       "      <th>Follow-up #</th>\n",
       "      <th>Patient ID</th>\n",
       "      <th>Patient Age</th>\n",
       "      <th>Patient Gender</th>\n",
       "      <th>View Position</th>\n",
       "      <th>OriginalImageWidth</th>\n",
       "      <th>OriginalImageHeight</th>\n",
       "      <th>OriginalImagePixelSpacing_x</th>\n",
       "      <th>OriginalImagePixelSpacing_y</th>\n",
       "    </tr>\n",
       "  </thead>\n",
       "  <tbody>\n",
       "    <tr>\n",
       "      <td>3132</td>\n",
       "      <td>00015442_026.png</td>\n",
       "      <td>No Finding</td>\n",
       "      <td>26</td>\n",
       "      <td>15442</td>\n",
       "      <td>061Y</td>\n",
       "      <td>F</td>\n",
       "      <td>PA</td>\n",
       "      <td>2536</td>\n",
       "      <td>3048</td>\n",
       "      <td>0.139</td>\n",
       "      <td>0.139</td>\n",
       "    </tr>\n",
       "    <tr>\n",
       "      <td>4967</td>\n",
       "      <td>00026179_005.png</td>\n",
       "      <td>Infiltration</td>\n",
       "      <td>5</td>\n",
       "      <td>26179</td>\n",
       "      <td>026Y</td>\n",
       "      <td>F</td>\n",
       "      <td>PA</td>\n",
       "      <td>2992</td>\n",
       "      <td>2991</td>\n",
       "      <td>0.143</td>\n",
       "      <td>0.143</td>\n",
       "    </tr>\n",
       "    <tr>\n",
       "      <td>4083</td>\n",
       "      <td>00020149_000.png</td>\n",
       "      <td>No Finding</td>\n",
       "      <td>0</td>\n",
       "      <td>20149</td>\n",
       "      <td>061Y</td>\n",
       "      <td>M</td>\n",
       "      <td>PA</td>\n",
       "      <td>2500</td>\n",
       "      <td>2048</td>\n",
       "      <td>0.168</td>\n",
       "      <td>0.168</td>\n",
       "    </tr>\n",
       "  </tbody>\n",
       "</table>\n",
       "</div>"
      ],
      "text/plain": [
       "           Image Index Finding Labels  Follow-up #  Patient ID Patient Age  \\\n",
       "3132  00015442_026.png     No Finding           26       15442        061Y   \n",
       "4967  00026179_005.png   Infiltration            5       26179        026Y   \n",
       "4083  00020149_000.png     No Finding            0       20149        061Y   \n",
       "\n",
       "     Patient Gender View Position  OriginalImageWidth  OriginalImageHeight  \\\n",
       "3132              F            PA                2536                 3048   \n",
       "4967              F            PA                2992                 2991   \n",
       "4083              M            PA                2500                 2048   \n",
       "\n",
       "      OriginalImagePixelSpacing_x  OriginalImagePixelSpacing_y  \n",
       "3132                        0.139                        0.139  \n",
       "4967                        0.143                        0.143  \n",
       "4083                        0.168                        0.168  "
      ]
     },
     "execution_count": 2,
     "metadata": {},
     "output_type": "execute_result"
    }
   ],
   "source": [
    "## Below is some helper code to read all of your full image filepaths into a dataframe for easier manipulation\n",
    "\n",
    "all_xray_df = pd.read_csv('data/Data_Entry_2017.csv')\n",
    "all_xray_df.sample(3)\n",
    "\n",
    "data_sample = pd.read_csv('sample_labels.csv')\n",
    "data_sample.sample(3)"
   ]
  },
  {
   "cell_type": "markdown",
   "metadata": {},
   "source": [
    "Also, **describe your findings and how will you set up the model training based on the findings.**"
   ]
  },
  {
   "cell_type": "code",
   "execution_count": 3,
   "metadata": {},
   "outputs": [
    {
     "data": {
      "image/png": "[encoded data removed]",
      "text/plain": [
       "<Figure size 432x288 with 1 Axes>"
      ]
     },
     "metadata": {
      "needs_background": "light"
     },
     "output_type": "display_data"
    }
   ],
   "source": [
    "## EDA\n",
    "xray = all_xray_df\n",
    "xray[\"Patient Gender\"] = np.where(xray[\"Patient Gender\"] == \"M\",1,0)\n",
    "plt.hist(xray[\"Patient Gender\"],bins = 100);"
   ]
  },
  {
   "cell_type": "code",
   "execution_count": 4,
   "metadata": {},
   "outputs": [
    {
     "data": {
      "image/png": "[encoded data removed]",
      "text/plain": [
       "<Figure size 432x288 with 4 Axes>"
      ]
     },
     "metadata": {
      "needs_background": "light"
     },
     "output_type": "display_data"
    }
   ],
   "source": [
    "def distributions():\n",
    "    col = [\"Follow-up #\", \"Patient Age\", \"Patient Gender\", \"View Position\"]\n",
    "    plt.subplot(2,2,1)\n",
    "    sns.distplot(xray[col[0]], hist=True, kde=False, bins=50, color = 'blue', hist_kws = {'edgecolor':'black'});\n",
    "    plt.subplot(2,2,2)\n",
    "    sns.distplot(xray[col[1]], hist=True, kde=False, bins=20, color = 'blue', hist_kws = {'edgecolor':'black'});\n",
    "    plt.subplot(2,2,3)\n",
    "    sns.countplot(xray[col[2]], color = 'blue');\n",
    "    plt.subplot(2,2,4)\n",
    "    sns.countplot(xray[col[3]], color = 'blue');\n",
    "distributions()"
   ]
  },
  {
   "cell_type": "code",
   "execution_count": 5,
   "metadata": {},
   "outputs": [
    {
     "data": {
      "text/html": [
       "<div>\n",
       "<style scoped>\n",
       "    .dataframe tbody tr th:only-of-type {\n",
       "        vertical-align: middle;\n",
       "    }\n",
       "\n",
       "    .dataframe tbody tr th {\n",
       "        vertical-align: top;\n",
       "    }\n",
       "\n",
       "    .dataframe thead th {\n",
       "        text-align: right;\n",
       "    }\n",
       "</style>\n",
       "<table border=\"1\" class=\"dataframe\">\n",
       "  <thead>\n",
       "    <tr style=\"text-align: right;\">\n",
       "      <th></th>\n",
       "      <th>Image Index</th>\n",
       "      <th>Finding Labels</th>\n",
       "      <th>Follow-up #</th>\n",
       "      <th>Patient ID</th>\n",
       "      <th>Patient Age</th>\n",
       "      <th>Patient Gender</th>\n",
       "      <th>View Position</th>\n",
       "      <th>OriginalImage[Width</th>\n",
       "      <th>Height]</th>\n",
       "      <th>OriginalImagePixelSpacing[x</th>\n",
       "      <th>y]</th>\n",
       "      <th>Unnamed: 11</th>\n",
       "    </tr>\n",
       "  </thead>\n",
       "  <tbody>\n",
       "    <tr>\n",
       "      <td>38264</td>\n",
       "      <td>00010007_183.png</td>\n",
       "      <td>Effusion|Infiltration</td>\n",
       "      <td>183</td>\n",
       "      <td>10007</td>\n",
       "      <td>59</td>\n",
       "      <td>1</td>\n",
       "      <td>AP</td>\n",
       "      <td>2500</td>\n",
       "      <td>2048</td>\n",
       "      <td>0.168</td>\n",
       "      <td>0.168</td>\n",
       "      <td>NaN</td>\n",
       "    </tr>\n",
       "  </tbody>\n",
       "</table>\n",
       "</div>"
      ],
      "text/plain": [
       "            Image Index         Finding Labels  Follow-up #  Patient ID  \\\n",
       "38264  00010007_183.png  Effusion|Infiltration          183       10007   \n",
       "\n",
       "       Patient Age  Patient Gender View Position  OriginalImage[Width  \\\n",
       "38264           59               1            AP                 2500   \n",
       "\n",
       "       Height]  OriginalImagePixelSpacing[x     y]  Unnamed: 11  \n",
       "38264     2048                        0.168  0.168          NaN  "
      ]
     },
     "execution_count": 5,
     "metadata": {},
     "output_type": "execute_result"
    }
   ],
   "source": [
    "#Looks like we have data that doesn't make sense. Follow-up # and Patient Age are two culprits. Let's take a look\n",
    "xray[xray[\"Follow-up #\"] == xray[\"Follow-up #\"].max()]"
   ]
  },
  {
   "cell_type": "code",
   "execution_count": 6,
   "metadata": {},
   "outputs": [
    {
     "data": {
      "text/html": [
       "<div>\n",
       "<style scoped>\n",
       "    .dataframe tbody tr th:only-of-type {\n",
       "        vertical-align: middle;\n",
       "    }\n",
       "\n",
       "    .dataframe tbody tr th {\n",
       "        vertical-align: top;\n",
       "    }\n",
       "\n",
       "    .dataframe thead th {\n",
       "        text-align: right;\n",
       "    }\n",
       "</style>\n",
       "<table border=\"1\" class=\"dataframe\">\n",
       "  <thead>\n",
       "    <tr style=\"text-align: right;\">\n",
       "      <th></th>\n",
       "      <th>Image Index</th>\n",
       "      <th>Finding Labels</th>\n",
       "      <th>Follow-up #</th>\n",
       "      <th>Patient ID</th>\n",
       "      <th>Patient Age</th>\n",
       "      <th>Patient Gender</th>\n",
       "      <th>View Position</th>\n",
       "      <th>OriginalImage[Width</th>\n",
       "      <th>Height]</th>\n",
       "      <th>OriginalImagePixelSpacing[x</th>\n",
       "      <th>y]</th>\n",
       "      <th>Unnamed: 11</th>\n",
       "    </tr>\n",
       "  </thead>\n",
       "  <tbody>\n",
       "    <tr>\n",
       "      <td>38081</td>\n",
       "      <td>00010007_000.png</td>\n",
       "      <td>No Finding</td>\n",
       "      <td>0</td>\n",
       "      <td>10007</td>\n",
       "      <td>57</td>\n",
       "      <td>1</td>\n",
       "      <td>PA</td>\n",
       "      <td>2992</td>\n",
       "      <td>2991</td>\n",
       "      <td>0.143</td>\n",
       "      <td>0.143</td>\n",
       "      <td>NaN</td>\n",
       "    </tr>\n",
       "    <tr>\n",
       "      <td>38082</td>\n",
       "      <td>00010007_001.png</td>\n",
       "      <td>No Finding</td>\n",
       "      <td>1</td>\n",
       "      <td>10007</td>\n",
       "      <td>58</td>\n",
       "      <td>1</td>\n",
       "      <td>AP</td>\n",
       "      <td>2500</td>\n",
       "      <td>2048</td>\n",
       "      <td>0.168</td>\n",
       "      <td>0.168</td>\n",
       "      <td>NaN</td>\n",
       "    </tr>\n",
       "    <tr>\n",
       "      <td>38083</td>\n",
       "      <td>00010007_002.png</td>\n",
       "      <td>Infiltration</td>\n",
       "      <td>2</td>\n",
       "      <td>10007</td>\n",
       "      <td>58</td>\n",
       "      <td>1</td>\n",
       "      <td>AP</td>\n",
       "      <td>2500</td>\n",
       "      <td>2048</td>\n",
       "      <td>0.168</td>\n",
       "      <td>0.168</td>\n",
       "      <td>NaN</td>\n",
       "    </tr>\n",
       "    <tr>\n",
       "      <td>38084</td>\n",
       "      <td>00010007_003.png</td>\n",
       "      <td>Edema</td>\n",
       "      <td>3</td>\n",
       "      <td>10007</td>\n",
       "      <td>58</td>\n",
       "      <td>1</td>\n",
       "      <td>AP</td>\n",
       "      <td>2500</td>\n",
       "      <td>2048</td>\n",
       "      <td>0.168</td>\n",
       "      <td>0.168</td>\n",
       "      <td>NaN</td>\n",
       "    </tr>\n",
       "    <tr>\n",
       "      <td>38085</td>\n",
       "      <td>00010007_004.png</td>\n",
       "      <td>Edema|Effusion|Infiltration</td>\n",
       "      <td>4</td>\n",
       "      <td>10007</td>\n",
       "      <td>58</td>\n",
       "      <td>1</td>\n",
       "      <td>AP</td>\n",
       "      <td>2500</td>\n",
       "      <td>2048</td>\n",
       "      <td>0.168</td>\n",
       "      <td>0.168</td>\n",
       "      <td>NaN</td>\n",
       "    </tr>\n",
       "    <tr>\n",
       "      <td>...</td>\n",
       "      <td>...</td>\n",
       "      <td>...</td>\n",
       "      <td>...</td>\n",
       "      <td>...</td>\n",
       "      <td>...</td>\n",
       "      <td>...</td>\n",
       "      <td>...</td>\n",
       "      <td>...</td>\n",
       "      <td>...</td>\n",
       "      <td>...</td>\n",
       "      <td>...</td>\n",
       "      <td>...</td>\n",
       "    </tr>\n",
       "    <tr>\n",
       "      <td>38260</td>\n",
       "      <td>00010007_179.png</td>\n",
       "      <td>Atelectasis|Effusion</td>\n",
       "      <td>179</td>\n",
       "      <td>10007</td>\n",
       "      <td>59</td>\n",
       "      <td>1</td>\n",
       "      <td>AP</td>\n",
       "      <td>2500</td>\n",
       "      <td>2048</td>\n",
       "      <td>0.168</td>\n",
       "      <td>0.168</td>\n",
       "      <td>NaN</td>\n",
       "    </tr>\n",
       "    <tr>\n",
       "      <td>38261</td>\n",
       "      <td>00010007_180.png</td>\n",
       "      <td>Infiltration|Pleural_Thickening</td>\n",
       "      <td>180</td>\n",
       "      <td>10007</td>\n",
       "      <td>59</td>\n",
       "      <td>1</td>\n",
       "      <td>AP</td>\n",
       "      <td>2500</td>\n",
       "      <td>2048</td>\n",
       "      <td>0.168</td>\n",
       "      <td>0.168</td>\n",
       "      <td>NaN</td>\n",
       "    </tr>\n",
       "    <tr>\n",
       "      <td>38262</td>\n",
       "      <td>00010007_181.png</td>\n",
       "      <td>No Finding</td>\n",
       "      <td>181</td>\n",
       "      <td>10007</td>\n",
       "      <td>59</td>\n",
       "      <td>1</td>\n",
       "      <td>AP</td>\n",
       "      <td>2500</td>\n",
       "      <td>2048</td>\n",
       "      <td>0.168</td>\n",
       "      <td>0.168</td>\n",
       "      <td>NaN</td>\n",
       "    </tr>\n",
       "    <tr>\n",
       "      <td>38263</td>\n",
       "      <td>00010007_182.png</td>\n",
       "      <td>Consolidation</td>\n",
       "      <td>182</td>\n",
       "      <td>10007</td>\n",
       "      <td>59</td>\n",
       "      <td>1</td>\n",
       "      <td>AP</td>\n",
       "      <td>2500</td>\n",
       "      <td>2048</td>\n",
       "      <td>0.168</td>\n",
       "      <td>0.168</td>\n",
       "      <td>NaN</td>\n",
       "    </tr>\n",
       "    <tr>\n",
       "      <td>38264</td>\n",
       "      <td>00010007_183.png</td>\n",
       "      <td>Effusion|Infiltration</td>\n",
       "      <td>183</td>\n",
       "      <td>10007</td>\n",
       "      <td>59</td>\n",
       "      <td>1</td>\n",
       "      <td>AP</td>\n",
       "      <td>2500</td>\n",
       "      <td>2048</td>\n",
       "      <td>0.168</td>\n",
       "      <td>0.168</td>\n",
       "      <td>NaN</td>\n",
       "    </tr>\n",
       "  </tbody>\n",
       "</table>\n",
       "<p>184 rows × 12 columns</p>\n",
       "</div>"
      ],
      "text/plain": [
       "            Image Index                   Finding Labels  Follow-up #  \\\n",
       "38081  00010007_000.png                       No Finding            0   \n",
       "38082  00010007_001.png                       No Finding            1   \n",
       "38083  00010007_002.png                     Infiltration            2   \n",
       "38084  00010007_003.png                            Edema            3   \n",
       "38085  00010007_004.png      Edema|Effusion|Infiltration            4   \n",
       "...                 ...                              ...          ...   \n",
       "38260  00010007_179.png             Atelectasis|Effusion          179   \n",
       "38261  00010007_180.png  Infiltration|Pleural_Thickening          180   \n",
       "38262  00010007_181.png                       No Finding          181   \n",
       "38263  00010007_182.png                    Consolidation          182   \n",
       "38264  00010007_183.png            Effusion|Infiltration          183   \n",
       "\n",
       "       Patient ID  Patient Age  Patient Gender View Position  \\\n",
       "38081       10007           57               1            PA   \n",
       "38082       10007           58               1            AP   \n",
       "38083       10007           58               1            AP   \n",
       "38084       10007           58               1            AP   \n",
       "38085       10007           58               1            AP   \n",
       "...           ...          ...             ...           ...   \n",
       "38260       10007           59               1            AP   \n",
       "38261       10007           59               1            AP   \n",
       "38262       10007           59               1            AP   \n",
       "38263       10007           59               1            AP   \n",
       "38264       10007           59               1            AP   \n",
       "\n",
       "       OriginalImage[Width  Height]  OriginalImagePixelSpacing[x     y]  \\\n",
       "38081                 2992     2991                        0.143  0.143   \n",
       "38082                 2500     2048                        0.168  0.168   \n",
       "38083                 2500     2048                        0.168  0.168   \n",
       "38084                 2500     2048                        0.168  0.168   \n",
       "38085                 2500     2048                        0.168  0.168   \n",
       "...                    ...      ...                          ...    ...   \n",
       "38260                 2500     2048                        0.168  0.168   \n",
       "38261                 2500     2048                        0.168  0.168   \n",
       "38262                 2500     2048                        0.168  0.168   \n",
       "38263                 2500     2048                        0.168  0.168   \n",
       "38264                 2500     2048                        0.168  0.168   \n",
       "\n",
       "       Unnamed: 11  \n",
       "38081          NaN  \n",
       "38082          NaN  \n",
       "38083          NaN  \n",
       "38084          NaN  \n",
       "38085          NaN  \n",
       "...            ...  \n",
       "38260          NaN  \n",
       "38261          NaN  \n",
       "38262          NaN  \n",
       "38263          NaN  \n",
       "38264          NaN  \n",
       "\n",
       "[184 rows x 12 columns]"
      ]
     },
     "execution_count": 6,
     "metadata": {},
     "output_type": "execute_result"
    }
   ],
   "source": [
    "pd.set_option('display.max_rows', 10)\n",
    "xray[xray[\"Patient ID\"] == 10007]\n",
    "\n",
    "# This patient seems to have shown every single disease in their 183 follow-ups! Let's assume this data is accurate."
   ]
  },
  {
   "cell_type": "code",
   "execution_count": 7,
   "metadata": {},
   "outputs": [
    {
     "data": {
      "text/plain": [
       "414"
      ]
     },
     "execution_count": 7,
     "metadata": {},
     "output_type": "execute_result"
    }
   ],
   "source": [
    "# Now let's look at Patient Age\n",
    "xray[\"Patient Age\"].max()"
   ]
  },
  {
   "cell_type": "code",
   "execution_count": 8,
   "metadata": {},
   "outputs": [
    {
     "data": {
      "text/plain": [
       "array({1, 2, 3, 4, 5, 6, 7, 8, 9, 10, 11, 12, 13, 14, 15, 16, 17, 18, 19, 20, 21, 22, 23, 24, 25, 26, 27, 28, 29, 30, 31, 32, 33, 34, 35, 36, 37, 38, 39, 40, 41, 42, 43, 44, 45, 46, 47, 48, 49, 50, 51, 52, 53, 54, 55, 56, 57, 58, 59, 60, 61, 62, 63, 64, 65, 66, 67, 68, 69, 70, 71, 72, 73, 74, 75, 76, 77, 78, 79, 80, 81, 82, 83, 84, 85, 86, 87, 88, 89, 90, 91, 92, 93, 94, 95, 148, 149, 150, 151, 152, 153, 154, 155, 411, 412, 413, 414},\n",
       "      dtype=object)"
      ]
     },
     "execution_count": 8,
     "metadata": {},
     "output_type": "execute_result"
    }
   ],
   "source": [
    "# Maximum age is 414? That does not make sense!\n",
    "np.transpose(set(xray[\"Patient Age\"].values))"
   ]
  },
  {
   "cell_type": "code",
   "execution_count": 9,
   "metadata": {},
   "outputs": [],
   "source": [
    "# Looks like every age after 95 is incorrect. We should drop this data.\n",
    "xray = xray[xray[\"Patient Age\"] <= 95]"
   ]
  },
  {
   "cell_type": "code",
   "execution_count": 10,
   "metadata": {},
   "outputs": [
    {
     "data": {
      "image/png": "[encoded data removed]",
      "text/plain": [
       "<Figure size 432x288 with 4 Axes>"
      ]
     },
     "metadata": {
      "needs_background": "light"
     },
     "output_type": "display_data"
    }
   ],
   "source": [
    "#Let's check the distributions again\n",
    "distributions()"
   ]
  },
  {
   "cell_type": "markdown",
   "metadata": {},
   "source": [
    "Looks like our patients are 50-60 years old.\n",
    "There's slightly more men than women.\n",
    "There are more PA views than AP\n",
    "Most of the images are from their first visit."
   ]
  },
  {
   "cell_type": "code",
   "execution_count": 11,
   "metadata": {
    "tags": []
   },
   "outputs": [
    {
     "name": "stderr",
     "output_type": "stream",
     "text": [
      "C:\\Users\\kush.patel\\AppData\\Local\\Continuum\\anaconda3\\lib\\site-packages\\ipykernel_launcher.py:7: SettingWithCopyWarning: \n",
      "A value is trying to be set on a copy of a slice from a DataFrame.\n",
      "Try using .loc[row_indexer,col_indexer] = value instead\n",
      "\n",
      "See the caveats in the documentation: http://pandas.pydata.org/pandas-docs/stable/user_guide/indexing.html#returning-a-view-versus-a-copy\n",
      "  import sys\n"
     ]
    }
   ],
   "source": [
    "# Now let's take a look at the findings.\n",
    "# First to extract the data in the  \"Finding Labels\" column and one-hot-ecode.\n",
    "\n",
    "diseases = [\"Atelectasis\", \"Consolidation\", \"Infiltration\", \"Pneumothorax\", \"Edema\", \"Emphysema\", \"Fibrosis\", \"Effusion\", \"Pneumonia\", \"Pleural_Thickening\", \"Cardiomegaly\", \"Nodule\", \"Mass\", \"Hernia\", \"No Finding\"]\n",
    "\n",
    "for label in diseases:\n",
    "    xray[label] = xray[\"Finding Labels\"].map(lambda finding: 1 if label in finding else 0)"
   ]
  },
  {
   "cell_type": "code",
   "execution_count": 12,
   "metadata": {
    "tags": []
   },
   "outputs": [
    {
     "name": "stdout",
     "output_type": "stream",
     "text": [
      "Cases with Pneumonia:  322\n",
      "Cases without Pneumonia:  110674\n"
     ]
    }
   ],
   "source": [
    "# Now see how many pneumonia vs non-pneumonia cases we have.\n",
    "print(\"Cases with Pneumonia: \", (xray[\"Finding Labels\"] == \"Pneumonia\").sum())\n",
    "print(\"Cases without Pneumonia: \", xray[\"Pneumonia\"].count()-xray[\"Pneumonia\"].sum())"
   ]
  },
  {
   "cell_type": "code",
   "execution_count": 13,
   "metadata": {},
   "outputs": [
    {
     "data": {
      "text/plain": [
       "<matplotlib.axes._subplots.AxesSubplot at 0x227024b3648>"
      ]
     },
     "execution_count": 13,
     "metadata": {},
     "output_type": "execute_result"
    },
    {
     "data": {
      "image/png": "[encoded data removed]",
      "text/plain": [
       "<Figure size 432x288 with 1 Axes>"
      ]
     },
     "metadata": {
      "needs_background": "light"
     },
     "output_type": "display_data"
    }
   ],
   "source": [
    "# Now lets look at how the diseases are distributed. Since we are focusing on Pneumonia, we'll focus those cases that have Pneumonia and also with cormobidity.\n",
    "pneumonia = xray[xray[\"Finding Labels\"].str.contains(\"Pneumonia\")][\"Finding Labels\"]\n",
    "pneumonia.value_counts()[:20].plot(kind=\"bar\")"
   ]
  },
  {
   "cell_type": "code",
   "execution_count": 14,
   "metadata": {},
   "outputs": [
    {
     "name": "stderr",
     "output_type": "stream",
     "text": [
      "C:\\Users\\kush.patel\\AppData\\Local\\Continuum\\anaconda3\\lib\\site-packages\\ipykernel_launcher.py:4: SettingWithCopyWarning: \n",
      "A value is trying to be set on a copy of a slice from a DataFrame.\n",
      "Try using .loc[row_indexer,col_indexer] = value instead\n",
      "\n",
      "See the caveats in the documentation: http://pandas.pydata.org/pandas-docs/stable/user_guide/indexing.html#returning-a-view-versus-a-copy\n",
      "  after removing the cwd from sys.path.\n",
      "C:\\Users\\kush.patel\\AppData\\Local\\Continuum\\anaconda3\\lib\\site-packages\\ipykernel_launcher.py:5: SettingWithCopyWarning: \n",
      "A value is trying to be set on a copy of a slice from a DataFrame.\n",
      "Try using .loc[row_indexer,col_indexer] = value instead\n",
      "\n",
      "See the caveats in the documentation: http://pandas.pydata.org/pandas-docs/stable/user_guide/indexing.html#returning-a-view-versus-a-copy\n",
      "  \"\"\"\n"
     ]
    },
    {
     "data": {
      "text/plain": [
       "<matplotlib.axes._subplots.AxesSubplot at 0x2270575b848>"
      ]
     },
     "execution_count": 14,
     "metadata": {},
     "output_type": "execute_result"
    },
    {
     "data": {
      "image/png": "[encoded data removed]",
      "text/plain": [
       "<Figure size 432x288 with 1 Axes>"
      ]
     },
     "metadata": {
      "needs_background": "light"
     },
     "output_type": "display_data"
    }
   ],
   "source": [
    "# Pneumonia with no co-morbodity has the highest prevalence compared to those with comorbidities.\n",
    "# Now let's look at the number of diseases each patient has\n",
    "\n",
    "xray[\"# of diseases\"] = 0\n",
    "xray[\"# of diseases\"] = xray[xray.columns[12:]].sum(axis=1)\n",
    "sns.countplot(xray[\"# of diseases\"])"
   ]
  },
  {
   "cell_type": "code",
   "execution_count": 15,
   "metadata": {},
   "outputs": [],
   "source": [
    "# Most people have only 1 detected disease.\n",
    "\n",
    "# Now to check distribution of pixel data on a sample of images"
   ]
  },
  {
   "cell_type": "code",
   "execution_count": 16,
   "metadata": {},
   "outputs": [],
   "source": [
    "#data_sample[\"Image Index\"]"
   ]
  },
  {
   "cell_type": "code",
   "execution_count": 17,
   "metadata": {
    "tags": []
   },
   "outputs": [],
   "source": [
    "# get the aboslute paths for all images\n",
    "paths_list = []\n",
    "d = %pwd\n",
    "d += \"\\data\\\\\"\n",
    "for dirpath,_,filenames in os.walk(d):\n",
    "    for f in filenames:\n",
    "        if \".png\" in f:\n",
    "            paths_list.append(os.path.abspath(os.path.join(dirpath, f)))\n",
    "\n",
    "data_sample[\"File Path\"] = [image for image in paths_list if image[-16:] in data_sample[\"Image Index\"].values]"
   ]
  },
  {
   "cell_type": "code",
   "execution_count": 19,
   "metadata": {
    "tags": []
   },
   "outputs": [
    {
     "data": {
      "image/png": "[encoded data removed]",
      "text/plain": [
       "<Figure size 432x288 with 1 Axes>"
      ]
     },
     "metadata": {
      "needs_background": "light"
     },
     "output_type": "display_data"
    }
   ],
   "source": [
    "# Intensity for lungs with No Finding\n",
    "def label_distribution(label):\n",
    "    no_finding_data = data_sample[data_sample[\"Finding Labels\"].str.match(\"No Finding\")]\n",
    "    img = np.zeros(1024*1024)\n",
    "    for path in no_finding_data[\"File Path\"]:\n",
    "        img += imageio.imread(path, pilmode=\"L\").ravel()\n",
    "    img /= len(no_finding_data)\n",
    "    img = img.reshape((1024,1024))\n",
    "    sns.distplot(img.ravel(), bins=256,kde=False)\n",
    "label_distribution(\"No Finding\")"
   ]
  },
  {
   "cell_type": "code",
   "execution_count": 20,
   "metadata": {},
   "outputs": [
    {
     "data": {
      "image/png": "[encoded data removed]",
      "text/plain": [
       "<Figure size 432x288 with 1 Axes>"
      ]
     },
     "metadata": {
      "needs_background": "light"
     },
     "output_type": "display_data"
    }
   ],
   "source": [
    "#Intensities for lungs with Pneumonia\n",
    "label_distribution(\"Pneumonia\")\n"
   ]
  },
  {
   "cell_type": "code",
   "execution_count": null,
   "metadata": {},
   "outputs": [],
   "source": [
    "# Images with Pneumonia have more pixles with medium-lower intensities"
   ]
  },
  {
   "cell_type": "code",
   "execution_count": null,
   "metadata": {},
   "outputs": [],
   "source": []
  }
 ],
 "metadata": {
  "kernelspec": {
   "display_name": "Python 3",
   "language": "python",
   "name": "python3"
  },
  "language_info": {
   "codemirror_mode": {
    "name": "ipython",
    "version": 3
   },
   "file_extension": ".py",
   "mimetype": "text/x-python",
   "name": "python",
   "nbconvert_exporter": "python",
   "pygments_lexer": "ipython3",
   "version": "3.7.4"
  }
 },
 "nbformat": 4,
 "nbformat_minor": 2
}
